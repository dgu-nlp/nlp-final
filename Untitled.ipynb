{
 "cells": [
  {
   "cell_type": "code",
   "execution_count": null,
   "id": "72bb0e27-5e12-4ecf-a07f-4e3d4a46e3aa",
   "metadata": {},
   "outputs": [],
   "source": []
  }
 ],
 "metadata": {
  "kernelspec": {
   "display_name": "",
   "name": ""
  },
  "language_info": {
   "name": ""
  }
 },
 "nbformat": 4,
 "nbformat_minor": 5
}
